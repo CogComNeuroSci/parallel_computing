{
 "cells": [
  {
   "cell_type": "markdown",
   "metadata": {},
   "source": [
    "# Parallel computing\n",
    "\n",
    "[![Language](https://img.shields.io/github/languages/top/CogComNeuroSci/parallel_computing?style=plastic)](https://img.shields.io/github/languages/top/CogComNeuroSci/parallel_computing?style=plastic)\n",
    "[![Commits](https://img.shields.io/github/commit-activity/y/CogComNeuroSci/parallel_computing?style=plastic)](https://img.shields.io/github/commit-activity/y/CogComNeuroSci/parallel_computing?style=plastic)\n",
    "[![Contributors](https://img.shields.io/github/all-contributors/CogComNeuroSci/parallel_computing?style=plastic)](https://img.shields.io/github/all-contributors/CogComNeuroSci/parallel_computing?style=plastic)"
   ]
  },
  {
   "cell_type": "markdown",
   "metadata": {},
   "source": [
    "## Overview\n",
    "\n",
    "Want to start parallel computing, but you have no idea where to start? You have come to the right repository! Here, you will find scripts that enable you to get the maximum from your computer, or an accessible High Performance Computing (HPC) cluster. Scripts are available in Python 3 and R. Do you have some scripts that might be relevant to other users? Feel free to submit a pull request to add extra scripts that help someone out. Spotted an error? Submit an issue!"
   ]
  },
  {
   "cell_type": "markdown",
   "metadata": {},
   "source": [
    "## Organization\n",
    "\n",
    "TBD"
   ]
  },
  {
   "cell_type": "markdown",
   "metadata": {},
   "source": [
    "## Programming environment   \n",
    "\n",
    "TBD"
   ]
  },
  {
   "cell_type": "markdown",
   "metadata": {},
   "source": [
    "## Contact\n",
    "\n",
    "- Pieter Huycke  \n",
    "    * [mail](mailto:Pieter.Huycke@UGent.be)\n",
    "    * [web entry](https://www.cogcomneurosci.com/about/#pieter-huycke)\n",
    "\n",
    "[Lab website]: https://cogcomneurosci.com/"
   ]
  },
  {
   "cell_type": "markdown",
   "metadata": {},
   "source": [
    "**Last edit: October 15 2021**"
   ]
  }
 ],
 "metadata": {
  "kernelspec": {
   "display_name": "Python 3",
   "language": "python",
   "name": "python3"
  },
  "language_info": {
   "codemirror_mode": {
    "name": "ipython",
    "version": 3
   },
   "file_extension": ".py",
   "mimetype": "text/x-python",
   "name": "python",
   "nbconvert_exporter": "python",
   "pygments_lexer": "ipython3",
   "version": "3.7.4"
  }
 },
 "nbformat": 4,
 "nbformat_minor": 2
}
